{
 "cells": [
  {
   "cell_type": "code",
   "execution_count": null,
   "id": "c429f838",
   "metadata": {},
   "outputs": [],
   "source": [
    "from IPython.display import display, Markdown\n",
    "import ollama"
   ]
  },
  {
   "cell_type": "code",
   "execution_count": null,
   "id": "1a80787e",
   "metadata": {},
   "outputs": [],
   "source": [
    "def get_chatCompletion(prompt):\n",
    "    stream = ollama.chat(\n",
    "        model='phi3:latest',\n",
    "        messages=[{'role': \"user\", 'content': prompt}],\n",
    "        stream=True\n",
    "    )\n",
    "\n",
    "    output = \"\"  \n",
    "    live_display = display(Markdown(\"\"), display_id=True)  \n",
    "\n",
    "    for chunk in stream:\n",
    "        content = chunk['message']['content']\n",
    "        output += content  \n",
    "        live_display.update(Markdown(output))  \n",
    "\n",
    "    return output  \n"
   ]
  },
  {
   "cell_type": "code",
   "execution_count": null,
   "id": "ccd2719b",
   "metadata": {},
   "outputs": [],
   "source": [
    "prompt=\"Tell me the the laws of motion given by Sir Issac Newton in short in 50 words\"\n",
    "response=get_chatCompletion(prompt)"
   ]
  },
  {
   "cell_type": "code",
   "execution_count": null,
   "id": "0ef706c0",
   "metadata": {},
   "outputs": [],
   "source": [
    "prompt=\"\"\"provide me the tabular format of \n",
    "difference between supervised and unsupervised learning\n",
    "each difference must not be long only short description\"\"\"\n",
    "\n",
    "response=get_chatCompletion(prompt)"
   ]
  },
  {
   "cell_type": "code",
   "execution_count": null,
   "id": "4656284a",
   "metadata": {},
   "outputs": [],
   "source": [
    "customer_reviews=[\n",
    "    {\n",
    "        \"name\":\"Andy Bernard\",\n",
    "        \"product\":\"Pepe Jeans\",\n",
    "        \"review\":\"The fabric is robust and strong, can use this for many years\"\n",
    "    },\n",
    "    {\n",
    "        \"name\":\"Micheal Scott\",\n",
    "        \"product\":\"shure speakers\",\n",
    "        \"review\":\"These are on fire damnn I really had a great time listening to that\"\n",
    "    },\n",
    "    {\n",
    "        \"name\":\"Dweight Schrute\",\n",
    "        \"product\":\"The butcher knife\",\n",
    "        \"review\":\"Upon the regourous testing the item has not qualified to be into my house, better it must be in trash can\"\n",
    "    }\n",
    "]"
   ]
  },
  {
   "cell_type": "code",
   "execution_count": null,
   "id": "7c575008",
   "metadata": {},
   "outputs": [],
   "source": [
    "sentimental_matrix=[\"+ve\",\"O\",\"-ve\"]"
   ]
  },
  {
   "cell_type": "code",
   "execution_count": null,
   "id": "d039c5f8",
   "metadata": {},
   "outputs": [],
   "source": [
    "output_format={\"review\":\"review by the user\",\n",
    "               \"sentiment\":\"sentiment you gave\",\n",
    "               \"reason\":\"why have you given that sentiment\"}"
   ]
  },
  {
   "cell_type": "code",
   "execution_count": null,
   "id": "00316b18",
   "metadata": {},
   "outputs": [],
   "source": [
    "few_shot_samples=[\n",
    "    {\n",
    "        \"review\":\"The Item is really brough the joy in me\",\n",
    "        \"sentiment\":\"+ve\",\n",
    "        \"reason\":\"The customer is showing positive sentiment so i have given +ve\"\n",
    "    },\n",
    "    {\n",
    "        \"review\":\"The Color is good but there can be more improvements but still not bad\",\n",
    "        \"sentiment\":\"O\",\n",
    "        \"reason\":\"The customer is having the both positive and negative views hence he is neutral so O\"\n",
    "    },\n",
    "    {\n",
    "        \"review\":\"WOahh I litrally had a terrible experience, Really dissapointed\",\n",
    "        \"sentiment\":\"-ve\",\n",
    "        \"reason\":\"The customer is showing strong negative insights as a review so i gave -ve\"\n",
    "    }\n",
    "]"
   ]
  },
  {
   "cell_type": "code",
   "execution_count": null,
   "id": "8848489f",
   "metadata": {},
   "outputs": [],
   "source": [
    "prompt=f'''perform the sentimental analysis on the customers whose details are given in <{customer_reviews}>\n",
    "The output must be in the format given in <{output_format}> and the sentiments must be given by the labels labelled in <{sentimental_matrix}>\n",
    "For better understanding here are samples given in <{few_shot_samples}> and form the answers and show me in json format it must not be line by line \n",
    "please properly format it it json format must look prettier line by line easy to read it must not look clumsy '''\n",
    "\n",
    "response=get_chatCompletion(prompt)"
   ]
  },
  {
   "cell_type": "code",
   "execution_count": null,
   "id": "27f6f612",
   "metadata": {},
   "outputs": [],
   "source": [
    "prompt='''def find_max(a, b):\n",
    "    if a > b:\n",
    "        return b\n",
    "    else:\n",
    "        return a\n",
    "\n",
    "    this is the code i dont have time for understanding it right now give me the corrected code i ll copy and paste it \n",
    "'''\n",
    "\n",
    "response=get_chatCompletion(prompt)"
   ]
  },
  {
   "cell_type": "code",
   "execution_count": null,
   "id": "7a214024",
   "metadata": {},
   "outputs": [],
   "source": [
    "prompt='''simple understanding of what is done with the content present in vectordb how llms use it \n",
    "explain in short 100 words and simple provide the answer in the beautiful markdown format'''\n",
    "response=get_chatCompletion(prompt)"
   ]
  },
  {
   "cell_type": "code",
   "execution_count": null,
   "id": "b2f903d7",
   "metadata": {},
   "outputs": [],
   "source": []
  }
 ],
 "metadata": {
  "kernelspec": {
   "display_name": "Python 3",
   "language": "python",
   "name": "python3"
  },
  "language_info": {
   "codemirror_mode": {
    "name": "ipython",
    "version": 3
   },
   "file_extension": ".py",
   "mimetype": "text/x-python",
   "name": "python",
   "nbconvert_exporter": "python",
   "pygments_lexer": "ipython3",
   "version": "3.12.1"
  }
 },
 "nbformat": 4,
 "nbformat_minor": 5
}
