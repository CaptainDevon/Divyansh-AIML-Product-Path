{
  "nbformat": 4,
  "nbformat_minor": 0,
  "metadata": {
    "colab": {
      "provenance": [],
      "authorship_tag": "ABX9TyNOW1wVZEPDnzG3k5MsouUF"
    },
    "kernelspec": {
      "name": "python3",
      "display_name": "Python 3"
    },
    "language_info": {
      "name": "python"
    }
  },
  "cells": [
    {
      "cell_type": "code",
      "execution_count": null,
      "metadata": {
        "id": "SOmRpUdDoFyT"
      },
      "outputs": [],
      "source": [
        "import os\n",
        "from google.colab import userdata\n",
        "import google.generativeai as genai\n",
        "from IPython.display import display,Markdown\n",
        "# Securely load your API key\n",
        "os.environ[\"GEMINI_API_KEY\"] = userdata.get('GOOGLE_API_KEY')\n",
        "genai.configure(api_key=os.environ[\"GEMINI_API_KEY\"])"
      ]
    },
    {
      "cell_type": "code",
      "source": [
        "def chat_completion_streaming(prompt):\n",
        "\n",
        "    model = genai.GenerativeModel('gemini-1.5-flash')\n",
        "    response_stream = model.generate_content(prompt, stream=True)\n",
        "\n",
        "    full_response_text = \"\"\n",
        "    try:\n",
        "        # Use print() to get the real-time, streaming effect\n",
        "        for chunk in response_stream:\n",
        "            full_response_text += chunk.text\n",
        "    except Exception as e:\n",
        "        print(f\"\\n\\nAn error occurred: {e}\")\n",
        "        full_response_text += f\"\\n[Error: {e}]\"\n",
        "\n",
        "    return full_response_text"
      ],
      "metadata": {
        "id": "Ng406p3fsvsP"
      },
      "execution_count": null,
      "outputs": []
    },
    {
      "cell_type": "code",
      "source": [
        "prompt1 = \"tell me the difference between supervised vs unsupervised vs reinforcement learning in tabular format\"\n",
        "response=chat_completion_streaming(prompt1)\n",
        "display(Markdown(response))\n"
      ],
      "metadata": {
        "colab": {
          "base_uri": "https://localhost:8080/",
          "height": 420
        },
        "id": "nfOXLtJBtBEs",
        "outputId": "e94b051b-180d-4d46-b228-17537aae2cfe"
      },
      "execution_count": null,
      "outputs": [
        {
          "output_type": "display_data",
          "data": {
            "text/plain": [
              "<IPython.core.display.Markdown object>"
            ],
            "text/markdown": "## Supervised vs. Unsupervised vs. Reinforcement Learning\n\n| Feature          | Supervised Learning                               | Unsupervised Learning                             | Reinforcement Learning                             |\n|-----------------|----------------------------------------------------|----------------------------------------------------|---------------------------------------------------|\n| **Goal**         | Predict output variables based on input variables. | Discover underlying patterns or structure in data. | Learn optimal actions to maximize cumulative reward.|\n| **Data**         | Labeled data (input-output pairs).               | Unlabeled data.                                     | Interaction with an environment.                   |\n| **Training Process** | Model learns a mapping from inputs to outputs.   | Model identifies patterns, clusters, or dimensions. | Agent learns a policy through trial and error.     |\n| **Feedback**      | Explicit feedback during training (correct answers).| No explicit feedback; model learns from data itself.| Implicit feedback through rewards and penalties.    |\n| **Output**        | Predictions, classifications, regressions.       | Clusters, dimensionality reductions, associations. | Policy (mapping states to actions), value function.|\n| **Examples**      | Image classification, spam detection, regression. | Customer segmentation, anomaly detection, PCA.     | Game playing, robotics, resource management.       |\n| **Algorithms**    | Linear Regression, Logistic Regression, SVM, Decision Trees, Neural Networks | K-Means Clustering, Hierarchical Clustering, PCA, DBSCAN | Q-Learning, SARSA, Deep Q-Networks (DQN)         |\n\n\n"
          },
          "metadata": {}
        }
      ]
    },
    {
      "cell_type": "code",
      "source": [
        "prompt2=\"Provide me the JSON format all the characters in valorant agents their name,abilities names,role \"\n",
        "response=chat_completion_streaming(prompt2)\n",
        "display(Markdown(response))"
      ],
      "metadata": {
        "colab": {
          "base_uri": "https://localhost:8080/",
          "height": 1000
        },
        "id": "MM2zKAfptGes",
        "outputId": "4c8d4cb5-76ae-486d-a84e-b5cf88c803c0"
      },
      "execution_count": null,
      "outputs": [
        {
          "output_type": "display_data",
          "data": {
            "text/plain": [
              "<IPython.core.display.Markdown object>"
            ],
            "text/markdown": "```json\n{\n  \"agents\": [\n    {\n      \"name\": \"Jett\",\n      \"role\": \"Duelist\",\n      \"abilities\": [\n        \"Updraft\",\n        \"Tailwind\",\n        \"Cloudburst\",\n        \"Blade Storm\"\n      ]\n    },\n    {\n      \"name\": \"Phoenix\",\n      \"role\": \"Duelist\",\n      \"abilities\": [\n        \"Blaze\",\n        \"Curveball\",\n        \"Hot Hands\",\n        \"Run it Back\"\n      ]\n    },\n    {\n      \"name\": \"Reyna\",\n      \"role\": \"Duelist\",\n      \"abilities\": [\n        \"Leer\",\n        \"Dismiss\",\n        \"Devour\",\n        \"Empress\"\n      ]\n    },\n    {\n      \"name\": \"Raze\",\n      \"role\": \"Duelist\",\n      \"abilities\": [\n        \"Boom Bot\",\n        \"Blast Pack\",\n        \"Showstopper\",\n        \"Paint Shells\"\n      ]\n    },\n    {\n      \"name\": \"Yoru\",\n      \"role\": \"Duelist\",\n      \"abilities\": [\n        \"Fakeout\",\n        \"Blindside\",\n        \"Gatecrash\",\n        \"Dimensional Drift\"\n      ]\n    },\n    {\n      \"name\": \"Neon\",\n      \"role\": \"Duelist\",\n      \"abilities\": [\n        \"High Gear\",\n        \"Relay Bolt\",\n        \"Fast Lane\",\n        \"Overdrive\"\n      ]\n    },\n    {\n      \"name\": \"Chamber\",\n      \"role\": \"Duelist\",\n      \"abilities\": [\n        \"Headhunter\",\n        \"Rendezvous\",\n        \"Trademark\",\n        \"Tour de Force\"\n      ]\n    },\n    {\n      \"name\": \"Gekko\",\n      \"role\": \"Duelist\",\n      \"abilities\": [\n        \"Wingman\",\n        \"Mosh Pit\",\n        \"Thundershock\",\n        \"Bloblob\"\n      ]\n    },\n    {\n      \"name\": \"Sage\",\n      \"role\": \"Sentinel\",\n      \"abilities\": [\n        \"Healing Orb\",\n        \"Slow Orb\",\n        \"Barrier Orb\",\n        \"Resurrection\"\n      ]\n    },\n    {\n      \"name\": \"Cypher\",\n      \"role\": \"Sentinel\",\n      \"abilities\": [\n        \"Cyber Cage\",\n        \"Spycam\",\n        \"Tripwire\",\n        \"Neural Theft\"\n      ]\n    },\n    {\n      \"name\": \"Killjoy\",\n      \"role\": \"Sentinel\",\n      \"abilities\": [\n        \"Nanoswarm\",\n        \"Mollies\",\n        \"Turret\",\n        \"Lockdown\"\n      ]\n    },\n    {\n      \"name\": \"Sage\",\n      \"role\": \"Sentinel\",\n      \"abilities\": [\n        \"Healing Orb\",\n        \"Slow Orb\",\n        \"Barrier Orb\",\n        \"Resurrection\"\n      ]\n    },\n    {\n      \"name\": \"Chamber\",\n      \"role\": \"Sentinel\",\n      \"abilities\": [\n        \"Headhunter\",\n        \"Rendezvous\",\n        \"Trademark\",\n        \"Tour de Force\"\n      ]\n    },\n    {\n      \"name\": \"Harbor\",\n      \"role\": \"Sentinel\",\n      \"abilities\": [\n        \"High Tide\",\n        \"Cascade\",\n        \"Reckoning\",\n        \"Covenant\"\n      ]\n    },\n    {\n      \"name\": \"Sova\",\n      \"role\": \"Initiator\",\n      \"abilities\": [\n        \"Owl Drone\",\n        \"Shock Dart\",\n        \"Recon Bolt\",\n        \"Hunter's Fury\"\n      ]\n    },\n    {\n      \"name\": \"Breach\",\n      \"role\": \"Initiator\",\n      \"abilities\": [\n        \"Aftershock\",\n        \"Fault Line\",\n        \"Flashpoint\",\n        \"Rolling Thunder\"\n      ]\n    },\n    {\n      \"name\": \"Skye\",\n      \"role\": \"Initiator\",\n      \"abilities\": [\n        \"Healing Orb\",\n        \"Trailblazer\",\n        \"Guiding Light\",\n        \"Seeking\"\n      ]\n    },\n    {\n      \"name\": \"Kay/O\",\n      \"role\": \"Initiator\",\n      \"abilities\": [\n        \"Suppressor\",\n        \"Flash/Drive\",\n        \"Knife\",\n        \"Nullform\"\n      ]\n    },\n    {\n      \"name\": \"Fade\",\n      \"role\": \"Initiator\",\n      \"abilities\": [\n        \"Nightfall\",\n        \"Seize\",\n        \"Prowler\",\n        \"Nightfall\"\n      ]\n    },\n    {\n      \"name\": \"Astra\",\n      \"role\": \"Controller\",\n      \"abilities\": [\n        \"Gravity Well\",\n        \"Nova Pulse\",\n        \"Dissipate\",\n        \"Astral Form\"\n      ]\n    },\n    {\n      \"name\": \"Brimstone\",\n      \"role\": \"Controller\",\n      \"abilities\": [\n        \"Incendiary\",\n        \"Stim Beacon\",\n        \"Sky Smoke\",\n        \"Orbital Strike\"\n      ]\n    },\n    {\n      \"name\": \"Omen\",\n      \"role\": \"Controller\",\n      \"abilities\": [\n        \"Paranoia\",\n        \"Dark Cover\",\n        \"Shrouded Step\",\n        \"From the Shadows\"\n      ]\n    },\n    {\n      \"name\": \"Viper\",\n      \"role\": \"Controller\",\n      \"abilities\": [\n        \"Poison Cloud\",\n        \"Toxic Screen\",\n        \"Snake Bite\",\n        \"Viper's Pit\"\n      ]\n    },\n    {\n      \"name\": \"Controller\",\n      \"role\": \"Controller\",\n      \"abilities\": [\n        \"C4\",\n        \"Smoke\",\n        \"M4\",\n        \"Flashbang\"\n      ]\n    }\n  ]\n}\n```\n\n**Note:**  The \"Controller\" agent at the end is a placeholder – it's not a real agent in Valorant. I've included it to demonstrate the structure, but you would remove this entry in a real application.  Also, ability names might have slight variations depending on the in-game translations.\n"
          },
          "metadata": {}
        }
      ]
    },
    {
      "cell_type": "code",
      "source": [
        "prompt3=\"Provide me the C++ code implenting the method overriding implementation simple code no comments inside the code and using namespacestd;\"\n",
        "response=chat_completion_streaming(prompt3)\n",
        "display(Markdown(response))"
      ],
      "metadata": {
        "colab": {
          "base_uri": "https://localhost:8080/",
          "height": 694
        },
        "id": "R7LqlXxJvLXW",
        "outputId": "4eeb830d-9912-4f71-e2e4-759d940b62f3"
      },
      "execution_count": null,
      "outputs": [
        {
          "output_type": "display_data",
          "data": {
            "text/plain": [
              "<IPython.core.display.Markdown object>"
            ],
            "text/markdown": "```cpp\n#include <iostream>\n\nusing namespace std;\n\nclass Animal {\npublic:\n  virtual void speak() {\n    cout << \"Generic animal sound\" << endl;\n  }\n};\n\nclass Dog : public Animal {\npublic:\n  void speak() override {\n    cout << \"Woof!\" << endl;\n  }\n};\n\nclass Cat : public Animal {\npublic:\n  void speak() override {\n    cout << \"Meow!\" << endl;\n  }\n};\n\nint main() {\n  Animal* animal = new Animal();\n  Dog* dog = new Dog();\n  Cat* cat = new Cat();\n\n  animal->speak();\n  dog->speak();\n  cat->speak();\n\n  delete animal;\n  delete dog;\n  delete cat;\n  return 0;\n}\n```\n"
          },
          "metadata": {}
        }
      ]
    },
    {
      "cell_type": "code",
      "source": [
        "statement=\"Prime still breathing how tedeous?\"\n",
        "prompt4=f\"tell me the sentiment of the comment <{statement}>\"\n",
        "response=chat_completion_streaming(prompt4)\n",
        "display(Markdown(response))"
      ],
      "metadata": {
        "colab": {
          "base_uri": "https://localhost:8080/",
          "height": 64
        },
        "id": "s1x_v4Plvydk",
        "outputId": "8455dfcb-f443-4db1-ed06-04c7488a83a8"
      },
      "execution_count": null,
      "outputs": [
        {
          "output_type": "display_data",
          "data": {
            "text/plain": [
              "<IPython.core.display.Markdown object>"
            ],
            "text/markdown": "The sentiment of the comment \"Prime still breathing how tedious?\" is strongly **negative**.  It expresses boredom and annoyance at something (Prime, presumably a person or entity) continuing to exist or persist.  The word \"tedious\" emphasizes the speaker's weariness and frustration.\n"
          },
          "metadata": {}
        }
      ]
    }
  ]
}