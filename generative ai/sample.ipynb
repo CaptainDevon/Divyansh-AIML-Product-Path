{
 "cells": [
  {
   "cell_type": "code",
   "execution_count": null,
   "id": "613138cb",
   "metadata": {},
   "outputs": [],
   "source": [
    "from IPython.display import Markdown, display\n",
    "import ollama\n",
    "\n",
    "stream = ollama.chat(\n",
    "    model='gemma:2b',\n",
    "    messages=[{'role': 'user', 'content': 'tell me about Hi Tech City in Hyderabad '}],\n",
    "    stream=True\n",
    ")\n",
    "\n",
    "# Setup streaming display\n",
    "output = ''\n",
    "md_display = display(Markdown(\"\"), display_id=True)\n",
    "\n",
    "for chunk in stream:\n",
    "    output += chunk['message']['content']\n",
    "    md_display.update(Markdown(output))\n"
   ]
  },
  {
   "cell_type": "code",
   "execution_count": null,
   "id": "bf38ed61",
   "metadata": {},
   "outputs": [],
   "source": []
  }
 ],
 "metadata": {
  "kernelspec": {
   "display_name": "Python 3",
   "language": "python",
   "name": "python3"
  },
  "language_info": {
   "codemirror_mode": {
    "name": "ipython",
    "version": 3
   },
   "file_extension": ".py",
   "mimetype": "text/x-python",
   "name": "python",
   "nbconvert_exporter": "python",
   "pygments_lexer": "ipython3",
   "version": "3.12.1"
  }
 },
 "nbformat": 4,
 "nbformat_minor": 5
}
