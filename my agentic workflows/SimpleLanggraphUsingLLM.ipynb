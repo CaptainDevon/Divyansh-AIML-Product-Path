{
  "nbformat": 4,
  "nbformat_minor": 0,
  "metadata": {
    "colab": {
      "provenance": [],
      "authorship_tag": "ABX9TyOnNB6LOEtVno2BBbiHRuI1"
    },
    "kernelspec": {
      "name": "python3",
      "display_name": "Python 3"
    },
    "language_info": {
      "name": "python"
    }
  },
  "cells": [
    {
      "cell_type": "code",
      "execution_count": null,
      "metadata": {
        "id": "yG61-GXjSHSI"
      },
      "outputs": [],
      "source": [
        "import os\n",
        "from google.colab import userdata\n",
        "from langchain_google_genai import ChatGoogleGenerativeAI\n",
        "from langgraph.graph import StateGraph, END\n",
        "from langgraph.checkpoint.memory import MemorySaver\n",
        "from typing import TypedDict"
      ]
    },
    {
      "cell_type": "code",
      "source": [
        "os.environ['GEMINI_API_KEY']=userdata.get('GOOGLE_API_KEY')"
      ],
      "metadata": {
        "id": "ypdUq68xSlXd"
      },
      "execution_count": null,
      "outputs": []
    },
    {
      "cell_type": "code",
      "source": [
        "llm=ChatGoogleGenerativeAI(model=\"gemini-2.5-flash\",api_key=os.environ['GEMINI_API_KEY'])"
      ],
      "metadata": {
        "id": "QA-S2U9CTT3c"
      },
      "execution_count": null,
      "outputs": []
    },
    {
      "cell_type": "code",
      "source": [
        "class State(TypedDict):\n",
        "  input:str\n",
        "  output:str"
      ],
      "metadata": {
        "id": "kBhxG1jAUymi"
      },
      "execution_count": null,
      "outputs": []
    },
    {
      "cell_type": "code",
      "source": [
        "def single_agent(state: State):\n",
        "  user_input=state['input']\n",
        "\n",
        "  system_prompt = (\n",
        "    \"You are a helpful assistant that only knows about Battlegrounds Mobile India (BGMI). \"\n",
        "    \"You can explain game mechanics, maps, weapons, strategies, and tips for improving gameplay. \"\n",
        "    \"If asked about anything outside BGMI, politely say that you only specialize in Battlegrounds Mobile India.\"\n",
        "  )\n",
        "\n",
        "  response=llm.invoke([\n",
        "      {'role':'system','content':system_prompt},\n",
        "      {'role':'user','content':user_input}\n",
        "  ])\n",
        "\n",
        "\n",
        "  return {\"output\":response.content}"
      ],
      "metadata": {
        "id": "D6U6b3sYVApT"
      },
      "execution_count": null,
      "outputs": []
    },
    {
      "cell_type": "code",
      "source": [
        "g=StateGraph(State)\n",
        "g.add_node(\"BGMIagent\",single_agent)\n",
        "g.set_entry_point(\"BGMIagent\")\n",
        "g.add_edge(\"BGMIagent\",END)"
      ],
      "metadata": {
        "colab": {
          "base_uri": "https://localhost:8080/"
        },
        "id": "j2ohWDiNYLFY",
        "outputId": "80de19be-42da-4183-a6a4-12d595e03123"
      },
      "execution_count": null,
      "outputs": [
        {
          "output_type": "execute_result",
          "data": {
            "text/plain": [
              "<langgraph.graph.state.StateGraph at 0x7921bd69fe00>"
            ]
          },
          "metadata": {},
          "execution_count": 37
        }
      ]
    },
    {
      "cell_type": "code",
      "source": [
        "app=g.compile()"
      ],
      "metadata": {
        "id": "2O0_qsJiYxse"
      },
      "execution_count": null,
      "outputs": []
    },
    {
      "cell_type": "code",
      "source": [
        "query1=app.invoke({\"input\":\"\"\"tell me the names of the guns which uses 5.56 ammo\n",
        "                  and mention which category they belong to and also mention which\n",
        "                  map they are commonly found (top3) in the json format\"\"\"})\n",
        "\n",
        "print(query1[\"output\"])"
      ],
      "metadata": {
        "colab": {
          "base_uri": "https://localhost:8080/"
        },
        "id": "uH8gosh6Y3vs",
        "outputId": "c69cfbae-1c32-4134-948e-7512f8d52d86"
      },
      "execution_count": null,
      "outputs": [
        {
          "output_type": "stream",
          "name": "stdout",
          "text": [
            "```json\n",
            "[\n",
            "  {\n",
            "    \"name\": \"M416\",\n",
            "    \"category\": \"Assault Rifle\",\n",
            "    \"common_maps\": [\"Erangel\", \"Miramar\", \"Livik\"]\n",
            "  },\n",
            "  {\n",
            "    \"name\": \"SCAR-L\",\n",
            "    \"category\": \"Assault Rifle\",\n",
            "    \"common_maps\": [\"Erangel\", \"Miramar\", \"Livik\"]\n",
            "  },\n",
            "  {\n",
            "    \"name\": \"M16A4\",\n",
            "    \"category\": \"Assault Rifle\",\n",
            "    \"common_maps\": [\"Erangel\", \"Miramar\", \"Livik\"]\n",
            "  },\n",
            "  {\n",
            "    \"name\": \"QBZ\",\n",
            "    \"category\": \"Assault Rifle\",\n",
            "    \"common_maps\": [\"Sanhok\"]\n",
            "  },\n",
            "  {\n",
            "    \"name\": \"G36C\",\n",
            "    \"category\": \"Assault Rifle\",\n",
            "    \"common_maps\": [\"Vikendi\"]\n",
            "  },\n",
            "  {\n",
            "    \"name\": \"Mini14\",\n",
            "    \"category\": \"Designated Marksman Rifle\",\n",
            "    \"common_maps\": [\"Erangel\", \"Miramar\", \"Livik\"]\n",
            "  },\n",
            "  {\n",
            "    \"name\": \"QBU\",\n",
            "    \"category\": \"Designated Marksman Rifle\",\n",
            "    \"common_maps\": [\"Sanhok\"]\n",
            "  },\n",
            "  {\n",
            "    \"name\": \"M249\",\n",
            "    \"category\": \"Light Machine Gun\",\n",
            "    \"common_maps\": [\"Livik\"]\n",
            "  }\n",
            "]\n",
            "```\n"
          ]
        }
      ]
    },
    {
      "cell_type": "code",
      "source": [
        "query2=app.invoke({\"input\":\"\"\"Tell me the names of the X-Suits available in the BGMI game\"\"\"})\n",
        "print(query2['output'])"
      ],
      "metadata": {
        "colab": {
          "base_uri": "https://localhost:8080/"
        },
        "id": "6iMuzZ3MZvGF",
        "outputId": "1c77c9b7-87e3-4ca5-fe12-a94080e7517b"
      },
      "execution_count": null,
      "outputs": [
        {
          "output_type": "stream",
          "name": "stdout",
          "text": [
            "In BGMI, X-Suits are highly coveted and upgradable outfits. Here are the names of the X-Suits that have been released in the game:\n",
            "\n",
            "1.  **Golden Pharaoh X-Suit**\n",
            "2.  **Blood Raven X-Suit**\n",
            "3.  **Poseidon X-Suit**\n",
            "4.  **Silvanus X-Suit**\n",
            "5.  **Arcane Jester X-Suit**\n",
            "6.  **Stygian Liege X-Suit**\n",
            "7.  **PMGC Specter X-Suit**\n",
            "8.  **Cyborg Assassin X-Suit**\n"
          ]
        }
      ]
    },
    {
      "cell_type": "code",
      "source": [
        "query3=app.invoke({\"input\":\"\"\"Tell me about the about Valorant\"\"\"})\n",
        "print(query3['output'])"
      ],
      "metadata": {
        "colab": {
          "base_uri": "https://localhost:8080/"
        },
        "id": "S7ptjCuEZ757",
        "outputId": "a3297422-3663-4477-81ad-27a656cadb23"
      },
      "execution_count": null,
      "outputs": [
        {
          "output_type": "stream",
          "name": "stdout",
          "text": [
            "I only specialize in Battlegrounds Mobile India (BGMI). If you have any questions about BGMI, I'd be happy to help!\n"
          ]
        }
      ]
    }
  ]
}