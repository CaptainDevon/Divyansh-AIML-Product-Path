{
  "nbformat": 4,
  "nbformat_minor": 0,
  "metadata": {
    "colab": {
      "provenance": [],
      "authorship_tag": "ABX9TyNuP3f6rpO1+WVXi/XDxQJI"
    },
    "kernelspec": {
      "name": "python3",
      "display_name": "Python 3"
    },
    "language_info": {
      "name": "python"
    }
  },
  "cells": [
    {
      "cell_type": "code",
      "execution_count": null,
      "metadata": {
        "id": "CdRGv56_MdKC"
      },
      "outputs": [],
      "source": [
        "from langgraph.graph import StateGraph\n",
        "from typing import TypedDict"
      ]
    },
    {
      "cell_type": "code",
      "source": [
        "class VoterCard(TypedDict):\n",
        "  voter_profile:dict\n",
        "  gender:str\n",
        "  age:int\n",
        "  result:bool"
      ],
      "metadata": {
        "id": "TlJGCR-3OKL4"
      },
      "execution_count": null,
      "outputs": []
    },
    {
      "cell_type": "code",
      "source": [
        "def a1(state: VoterCard)->dict:\n",
        "  print(\"Agent1 processing the user profile. \",state)\n",
        "  return {\"gender\":\"male\"}\n",
        "\n",
        "def a2(state: VoterCard)->dict:\n",
        "  print(\"Agent2 taking age. \",state)\n",
        "  age=int(input(\"Enter user age: \"))\n",
        "  return {\"age\":age}\n",
        "\n",
        "def route_by_age(state: VoterCard) ->str:\n",
        "  return \"declined\" if state['age'] < 18 else \"accepted\"\n",
        "\n",
        "def a3(state: VoterCard)-> dict:\n",
        "  print(\"Agent 3 invoked: Sorry! you are not eligible to vote -> Age: \",state['age'])\n",
        "  return {'result':False}\n",
        "\n",
        "def a4(state: VoterCard)-> dict:\n",
        "  print(\"Agent 4 invoked: Congrats! you are eligible to vote -> Age: \",state['age'])\n",
        "  return {'result':True}"
      ],
      "metadata": {
        "id": "nEsC-yS_O3zP"
      },
      "execution_count": null,
      "outputs": []
    },
    {
      "cell_type": "code",
      "source": [
        "g=StateGraph(VoterCard)\n",
        "g.add_node(\"a1\",a1)\n",
        "g.add_node(\"a2\",a2)\n",
        "g.add_node(\"a3\",a3)\n",
        "g.add_node(\"a4\",a4)"
      ],
      "metadata": {
        "colab": {
          "base_uri": "https://localhost:8080/"
        },
        "id": "-hkmq50KPRF_",
        "outputId": "53ed3c72-e014-4ab6-ce45-2e8ba9cd7a9c"
      },
      "execution_count": null,
      "outputs": [
        {
          "output_type": "execute_result",
          "data": {
            "text/plain": [
              "<langgraph.graph.state.StateGraph at 0x7ff3baccb2c0>"
            ]
          },
          "metadata": {},
          "execution_count": 8
        }
      ]
    },
    {
      "cell_type": "code",
      "source": [
        "g.add_edge(\"a1\",\"a2\")\n",
        "g.add_conditional_edges(\n",
        "    \"a2\",\n",
        "    route_by_age,\n",
        "    {\n",
        "        \"declined\":\"a3\",\n",
        "        \"accepted\":\"a4\"\n",
        "    }\n",
        ")"
      ],
      "metadata": {
        "colab": {
          "base_uri": "https://localhost:8080/"
        },
        "id": "7r2au4glQ1aZ",
        "outputId": "794d876d-706c-49d1-9fa0-668ea174c733"
      },
      "execution_count": null,
      "outputs": [
        {
          "output_type": "execute_result",
          "data": {
            "text/plain": [
              "<langgraph.graph.state.StateGraph at 0x7ff3baccb2c0>"
            ]
          },
          "metadata": {},
          "execution_count": 9
        }
      ]
    },
    {
      "cell_type": "code",
      "source": [
        "g.set_entry_point('a1')"
      ],
      "metadata": {
        "colab": {
          "base_uri": "https://localhost:8080/"
        },
        "id": "nbtJW5MsRKAQ",
        "outputId": "d5ad17d4-e47d-4640-a7cd-d1b485f5cba4"
      },
      "execution_count": null,
      "outputs": [
        {
          "output_type": "execute_result",
          "data": {
            "text/plain": [
              "<langgraph.graph.state.StateGraph at 0x7ff3baccb2c0>"
            ]
          },
          "metadata": {},
          "execution_count": 10
        }
      ]
    },
    {
      "cell_type": "code",
      "source": [
        "workflow=g.compile()\n",
        "\n",
        "initial_state: VoterCard={\n",
        "    \"voter_profile\":{\n",
        "        \"name\":\"Divyansh Sinha\",\n",
        "        \"nationality\":\"Indian\",\n",
        "        \"state\":\"Telangana\",\n",
        "        \"place\":\"Hyderabad\"\n",
        "    }\n",
        "}"
      ],
      "metadata": {
        "id": "oSjE0m2LRNWg"
      },
      "execution_count": null,
      "outputs": []
    },
    {
      "cell_type": "code",
      "source": [
        "result=workflow.invoke(initial_state)\n",
        "result"
      ],
      "metadata": {
        "colab": {
          "base_uri": "https://localhost:8080/"
        },
        "id": "OfucBethRij0",
        "outputId": "41cfe2d2-4917-4956-f570-78c2845b3a89"
      },
      "execution_count": null,
      "outputs": [
        {
          "output_type": "stream",
          "name": "stdout",
          "text": [
            "Agent1 processing the user profile.  {'voter_profile': {'name': 'Divyansh Sinha', 'nationality': 'Indian', 'state': 'Telangana', 'place': 'Hyderabad'}}\n",
            "Agent2 taking age.  {'voter_profile': {'name': 'Divyansh Sinha', 'nationality': 'Indian', 'state': 'Telangana', 'place': 'Hyderabad'}, 'gender': 'male'}\n",
            "Enter user age: 11\n",
            "Agent 3 invoked: Sorry! you are not eligible to vote -> Age:  11\n"
          ]
        },
        {
          "output_type": "execute_result",
          "data": {
            "text/plain": [
              "{'voter_profile': {'name': 'Divyansh Sinha',\n",
              "  'nationality': 'Indian',\n",
              "  'state': 'Telangana',\n",
              "  'place': 'Hyderabad'},\n",
              " 'gender': 'male',\n",
              " 'age': 11,\n",
              " 'result': False}"
            ]
          },
          "metadata": {},
          "execution_count": 13
        }
      ]
    }
  ]
}