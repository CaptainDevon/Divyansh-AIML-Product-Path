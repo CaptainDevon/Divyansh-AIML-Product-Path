{
 "cells": [
  {
   "cell_type": "code",
   "execution_count": 1,
   "id": "6b790333",
   "metadata": {},
   "outputs": [],
   "source": [
    "import spacy"
   ]
  },
  {
   "cell_type": "code",
   "execution_count": 2,
   "id": "3d1102d6",
   "metadata": {},
   "outputs": [],
   "source": [
    "nlp=spacy.load(\"en_core_web_sm\")"
   ]
  },
  {
   "cell_type": "code",
   "execution_count": 3,
   "id": "e9d7778d",
   "metadata": {},
   "outputs": [],
   "source": [
    "document=nlp(open(\"Sample_text.txt\",\"r\").read())"
   ]
  },
  {
   "cell_type": "code",
   "execution_count": 7,
   "id": "3c24e99e",
   "metadata": {},
   "outputs": [
    {
     "name": "stdout",
     "output_type": "stream",
     "text": [
      "Forza Horizon 5, developed by Playground Games and published by Xbox Game\n",
      "Studios, is a critically acclaimed open-world racing game released in November\n",
      "2021.\n"
     ]
    }
   ],
   "source": [
    "sentence=list(document.sents)[0]\n",
    "print(sentence)"
   ]
  },
  {
   "cell_type": "code",
   "execution_count": 10,
   "id": "23ad855c",
   "metadata": {},
   "outputs": [
    {
     "name": "stdout",
     "output_type": "stream",
     "text": [
      "Horizon\n"
     ]
    }
   ],
   "source": [
    "token=sentence[1]\n",
    "print(token)"
   ]
  },
  {
   "cell_type": "code",
   "execution_count": 11,
   "id": "c6256c3f",
   "metadata": {},
   "outputs": [
    {
     "data": {
      "text/plain": [
       "'Horizon'"
      ]
     },
     "execution_count": 11,
     "metadata": {},
     "output_type": "execute_result"
    }
   ],
   "source": [
    "token.text"
   ]
  },
  {
   "cell_type": "code",
   "execution_count": 12,
   "id": "bff1dba1",
   "metadata": {},
   "outputs": [
    {
     "data": {
      "text/plain": [
       "Forza"
      ]
     },
     "execution_count": 12,
     "metadata": {},
     "output_type": "execute_result"
    }
   ],
   "source": [
    "token.left_edge"
   ]
  },
  {
   "cell_type": "code",
   "execution_count": 13,
   "id": "b1c48f8a",
   "metadata": {},
   "outputs": [
    {
     "data": {
      "text/plain": [
       ","
      ]
     },
     "execution_count": 13,
     "metadata": {},
     "output_type": "execute_result"
    }
   ],
   "source": [
    "token.right_edge"
   ]
  },
  {
   "cell_type": "code",
   "execution_count": 14,
   "id": "67fc9e12",
   "metadata": {},
   "outputs": [
    {
     "data": {
      "text/plain": [
       "380"
      ]
     },
     "execution_count": 14,
     "metadata": {},
     "output_type": "execute_result"
    }
   ],
   "source": [
    "token.ent_type"
   ]
  },
  {
   "cell_type": "code",
   "execution_count": 16,
   "id": "fd3962d5",
   "metadata": {},
   "outputs": [
    {
     "data": {
      "text/plain": [
       "'PERSON'"
      ]
     },
     "execution_count": 16,
     "metadata": {},
     "output_type": "execute_result"
    }
   ],
   "source": [
    "token.ent_type_"
   ]
  },
  {
   "cell_type": "code",
   "execution_count": 17,
   "id": "ab1c2f55",
   "metadata": {},
   "outputs": [
    {
     "data": {
      "text/plain": [
       "'I'"
      ]
     },
     "execution_count": 17,
     "metadata": {},
     "output_type": "execute_result"
    }
   ],
   "source": [
    "token.ent_iob_"
   ]
  },
  {
   "cell_type": "code",
   "execution_count": 18,
   "id": "511f3de6",
   "metadata": {},
   "outputs": [
    {
     "data": {
      "text/plain": [
       "'Horizon'"
      ]
     },
     "execution_count": 18,
     "metadata": {},
     "output_type": "execute_result"
    }
   ],
   "source": [
    "token.lemma_"
   ]
  },
  {
   "cell_type": "code",
   "execution_count": 22,
   "id": "24f04879",
   "metadata": {},
   "outputs": [
    {
     "data": {
      "text/plain": [
       "'develop'"
      ]
     },
     "execution_count": 22,
     "metadata": {},
     "output_type": "execute_result"
    }
   ],
   "source": [
    "sentence[4].lemma_"
   ]
  },
  {
   "cell_type": "code",
   "execution_count": 23,
   "id": "247f9071",
   "metadata": {},
   "outputs": [
    {
     "name": "stdout",
     "output_type": "stream",
     "text": [
      "developed\n"
     ]
    }
   ],
   "source": [
    "print(sentence[4])"
   ]
  },
  {
   "cell_type": "code",
   "execution_count": 24,
   "id": "ca49a406",
   "metadata": {},
   "outputs": [
    {
     "data": {
      "text/plain": [
       "Number=Sing"
      ]
     },
     "execution_count": 24,
     "metadata": {},
     "output_type": "execute_result"
    }
   ],
   "source": [
    "token.morph"
   ]
  },
  {
   "cell_type": "code",
   "execution_count": 25,
   "id": "139d236d",
   "metadata": {},
   "outputs": [
    {
     "data": {
      "text/plain": [
       "Aspect=Perf|Tense=Past|VerbForm=Part"
      ]
     },
     "execution_count": 25,
     "metadata": {},
     "output_type": "execute_result"
    }
   ],
   "source": [
    "sentence[4].morph"
   ]
  },
  {
   "cell_type": "code",
   "execution_count": 26,
   "id": "52c15b89",
   "metadata": {},
   "outputs": [
    {
     "data": {
      "text/plain": [
       "'PROPN'"
      ]
     },
     "execution_count": 26,
     "metadata": {},
     "output_type": "execute_result"
    }
   ],
   "source": [
    "token.pos_"
   ]
  },
  {
   "cell_type": "code",
   "execution_count": 27,
   "id": "d19cb6be",
   "metadata": {},
   "outputs": [
    {
     "data": {
      "text/plain": [
       "'nsubj'"
      ]
     },
     "execution_count": 27,
     "metadata": {},
     "output_type": "execute_result"
    }
   ],
   "source": [
    "token.dep_"
   ]
  },
  {
   "cell_type": "code",
   "execution_count": 29,
   "id": "85c6eb12",
   "metadata": {},
   "outputs": [
    {
     "data": {
      "text/plain": [
       "'en'"
      ]
     },
     "execution_count": 29,
     "metadata": {},
     "output_type": "execute_result"
    }
   ],
   "source": [
    "token.lang_"
   ]
  }
 ],
 "metadata": {
  "kernelspec": {
   "display_name": ".venv",
   "language": "python",
   "name": "python3"
  },
  "language_info": {
   "codemirror_mode": {
    "name": "ipython",
    "version": 3
   },
   "file_extension": ".py",
   "mimetype": "text/x-python",
   "name": "python",
   "nbconvert_exporter": "python",
   "pygments_lexer": "ipython3",
   "version": "3.12.1"
  }
 },
 "nbformat": 4,
 "nbformat_minor": 5
}
