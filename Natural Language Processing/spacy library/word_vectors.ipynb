{
 "cells": [
  {
   "cell_type": "code",
   "execution_count": 54,
   "id": "6ccef817",
   "metadata": {},
   "outputs": [],
   "source": [
    "#!python -m spacy download en_core_web_md"
   ]
  },
  {
   "cell_type": "code",
   "execution_count": 55,
   "id": "57318d30",
   "metadata": {},
   "outputs": [],
   "source": [
    "import spacy\n",
    "import numpy as np"
   ]
  },
  {
   "cell_type": "code",
   "execution_count": 56,
   "id": "750fdbf8",
   "metadata": {},
   "outputs": [],
   "source": [
    "nlp=spacy.load(\"en_core_web_md\")"
   ]
  },
  {
   "cell_type": "code",
   "execution_count": 57,
   "id": "97f3a89e",
   "metadata": {},
   "outputs": [],
   "source": [
    "doc=nlp(open(\"Sample_text.txt\",\"r\").read())"
   ]
  },
  {
   "cell_type": "code",
   "execution_count": 58,
   "id": "2e8558a8",
   "metadata": {},
   "outputs": [
    {
     "name": "stdout",
     "output_type": "stream",
     "text": [
      "Forza Horizon 5, developed by Playground Games and published by Xbox Game\n",
      "Studios, is a critically acclaimed open-world racing game released in November\n",
      "2021.\n"
     ]
    }
   ],
   "source": [
    "sentence=list(doc.sents)[0]\n",
    "print(sentence)"
   ]
  },
  {
   "cell_type": "code",
   "execution_count": 59,
   "id": "b38fd367",
   "metadata": {},
   "outputs": [
    {
     "name": "stdout",
     "output_type": "stream",
     "text": [
      "['SLUMS', 'inner-city', 'anti-poverty', 'Socioeconomic', 'INTERSECT', 'Divides', 'dropout', 'handicaps', 'drop-out', 'south-east']\n"
     ]
    }
   ],
   "source": [
    "your_word=\"country\"\n",
    "\n",
    "ms=nlp.vocab.vectors.most_similar(\n",
    "    np.asarray([nlp.vocab.vectors[nlp.vocab.strings[your_word]]]),n=10)\n",
    "\n",
    "words=[nlp.vocab.strings[w] for w in ms[0][0]]\n",
    "distances=ms[2]\n",
    "print(words)"
   ]
  },
  {
   "cell_type": "code",
   "execution_count": 60,
   "id": "0cc12aba",
   "metadata": {},
   "outputs": [],
   "source": [
    "sample_doc1=nlp(\"I like Chinease food.\")\n",
    "sample_doc2=nlp(\"Fast food taste very good.\")\n",
    "sample_doc3=nlp(\"Indore is in Madhya Pradesh\")"
   ]
  },
  {
   "cell_type": "code",
   "execution_count": 61,
   "id": "3e92ca3e",
   "metadata": {},
   "outputs": [
    {
     "name": "stdout",
     "output_type": "stream",
     "text": [
      "I like Chinease food. <-> Fast food taste very good. 0.6743090748786926\n",
      "I like Chinease food. <-> Indore is in Madhya Pradesh 0.1855643391609192\n"
     ]
    }
   ],
   "source": [
    "print(sample_doc1,\"<->\",sample_doc2,sample_doc1.similarity(sample_doc2))\n",
    "print(sample_doc1,\"<->\",sample_doc3,sample_doc1.similarity(sample_doc3))\n"
   ]
  },
  {
   "cell_type": "code",
   "execution_count": 67,
   "id": "7696777f",
   "metadata": {},
   "outputs": [
    {
     "name": "stdout",
     "output_type": "stream",
     "text": [
      "I play violin <-> I listen to a song 0.7598588466644287\n"
     ]
    }
   ],
   "source": [
    "sample_doc4=nlp(\"I play violin\")\n",
    "sample_doc5=nlp(\"I listen to a song\")\n",
    "print(sample_doc4,\"<->\",sample_doc5,sample_doc4.similarity(sample_doc5))\n"
   ]
  }
 ],
 "metadata": {
  "kernelspec": {
   "display_name": ".venv",
   "language": "python",
   "name": "python3"
  },
  "language_info": {
   "codemirror_mode": {
    "name": "ipython",
    "version": 3
   },
   "file_extension": ".py",
   "mimetype": "text/x-python",
   "name": "python",
   "nbconvert_exporter": "python",
   "pygments_lexer": "ipython3",
   "version": "3.12.1"
  }
 },
 "nbformat": 4,
 "nbformat_minor": 5
}
