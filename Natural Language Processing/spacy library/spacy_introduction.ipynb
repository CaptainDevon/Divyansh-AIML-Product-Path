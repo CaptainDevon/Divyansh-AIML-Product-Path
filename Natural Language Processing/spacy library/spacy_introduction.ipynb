{
 "cells": [
  {
   "cell_type": "code",
   "execution_count": 1,
   "id": "c1b88a07",
   "metadata": {},
   "outputs": [],
   "source": [
    "import spacy"
   ]
  },
  {
   "cell_type": "code",
   "execution_count": 2,
   "id": "fad5ac00",
   "metadata": {},
   "outputs": [],
   "source": [
    "nlp= spacy.load(\"en_core_web_sm\")"
   ]
  },
  {
   "cell_type": "markdown",
   "id": "155bc713",
   "metadata": {},
   "source": [
    "# What difference we see while using spacy \n"
   ]
  },
  {
   "cell_type": "markdown",
   "id": "d22050e5",
   "metadata": {},
   "source": [
    "## This the normal file reading technique"
   ]
  },
  {
   "cell_type": "code",
   "execution_count": 3,
   "id": "d4c584c9",
   "metadata": {},
   "outputs": [],
   "source": [
    "with open(\"Sample_text.txt\",\"r\") as f:\n",
    "    text=f.read()"
   ]
  },
  {
   "cell_type": "code",
   "execution_count": 4,
   "id": "826753e7",
   "metadata": {},
   "outputs": [
    {
     "name": "stdout",
     "output_type": "stream",
     "text": [
      "Forza Horizon 5, developed by Playground Games and published by Xbox Game\n",
      "Studios, is a critically acclaimed open-world racing game released in November\n",
      "2021. As the fifth installment in the Forza Horizon series, the game builds upon\n",
      "its predecessors with a vibrant and dynamic setting, offering players an\n",
      "immersive driving experience across a beautifully rendered version of Mexico.\n",
      "From lush rainforests to sun-drenched beaches and massive volcanoes, Forza\n",
      "Horizon 5 sets a new standard for open-world racing games with its breathtaking\n",
      "visuals and expansive world.\n",
      "\n",
      "One of the most notable aspects of Forza Horizon 5 is its diverse and richly\n",
      "detailed map. Spanning multiple biomes, the game provides an ever-changing\n",
      "environment that reflects real-world weather conditions and seasons. Whether\n",
      "racing through a sandstorm in the desert or drifting along cobbled streets in\n",
      "colonial towns, players are treated to a wide range of racing scenarios. This\n",
      "variety not only enhances replay value but also adds to the thrill and\n",
      "unpredictability of each race.\n",
      "\n",
      "In terms of gameplay, Forza Horizon 5 excels in combining accessibility with\n",
      "realism. It caters to both casual players and hardcore car enthusiasts, offering\n",
      "deep customization options, realistic physics, and an expansive roster of over\n",
      "500 vehicles. The game also introduces a dynamic event system, allowing players\n",
      "to participate in different races, stunts, and challenges scattered throughout\n",
      "the open world. With the inclusion of Horizon Arcade and Horizon Tour, the\n",
      "multiplayer aspect has been greatly enhanced, encouraging social play and\n",
      "friendly competition.\n",
      "\n",
      "The visual fidelity of Forza Horizon 5 is nothing short of spectacular.\n",
      "Leveraging the power of next-gen consoles and high-end PCs, the game features\n",
      "detailed car models, lifelike lighting, and photorealistic landscapes. The audio\n",
      "design is equally impressive, with each engine sounding authentic and the\n",
      "ambient sounds of nature adding depth to the immersive driving experience.\n",
      "Coupled with a diverse and energetic soundtrack, the game captures the\n",
      "excitement of a real-life automotive festival.\n",
      "\n",
      "In conclusion, Forza Horizon 5 is a landmark title in the racing genre,\n",
      "combining technical excellence with creative ambition. Its expansive world,\n",
      "diverse gameplay, and stunning presentation make it a must-play for fans of cars\n",
      "and open-world games alike. Whether you're exploring the scenic beauty of Mexico\n",
      "or competing in high-speed races, Forza Horizon 5 delivers an unforgettable\n",
      "experience that continues to evolve with each update and expansion.\n"
     ]
    }
   ],
   "source": [
    "print(text)"
   ]
  },
  {
   "cell_type": "markdown",
   "id": "ddaf4979",
   "metadata": {},
   "source": [
    "## Now using NLP\n"
   ]
  },
  {
   "cell_type": "code",
   "execution_count": 5,
   "id": "3b88bca7",
   "metadata": {},
   "outputs": [],
   "source": [
    "doc=nlp(text)"
   ]
  },
  {
   "cell_type": "code",
   "execution_count": 6,
   "id": "17c65744",
   "metadata": {},
   "outputs": [
    {
     "name": "stdout",
     "output_type": "stream",
     "text": [
      "Forza Horizon 5, developed by Playground Games and published by Xbox Game\n",
      "Studios, is a critically acclaimed open-world racing game released in November\n",
      "2021. As the fifth installment in the Forza Horizon series, the game builds upon\n",
      "its predecessors with a vibrant and dynamic setting, offering players an\n",
      "immersive driving experience across a beautifully rendered version of Mexico.\n",
      "From lush rainforests to sun-drenched beaches and massive volcanoes, Forza\n",
      "Horizon 5 sets a new standard for open-world racing games with its breathtaking\n",
      "visuals and expansive world.\n",
      "\n",
      "One of the most notable aspects of Forza Horizon 5 is its diverse and richly\n",
      "detailed map. Spanning multiple biomes, the game provides an ever-changing\n",
      "environment that reflects real-world weather conditions and seasons. Whether\n",
      "racing through a sandstorm in the desert or drifting along cobbled streets in\n",
      "colonial towns, players are treated to a wide range of racing scenarios. This\n",
      "variety not only enhances replay value but also adds to the thrill and\n",
      "unpredictability of each race.\n",
      "\n",
      "In terms of gameplay, Forza Horizon 5 excels in combining accessibility with\n",
      "realism. It caters to both casual players and hardcore car enthusiasts, offering\n",
      "deep customization options, realistic physics, and an expansive roster of over\n",
      "500 vehicles. The game also introduces a dynamic event system, allowing players\n",
      "to participate in different races, stunts, and challenges scattered throughout\n",
      "the open world. With the inclusion of Horizon Arcade and Horizon Tour, the\n",
      "multiplayer aspect has been greatly enhanced, encouraging social play and\n",
      "friendly competition.\n",
      "\n",
      "The visual fidelity of Forza Horizon 5 is nothing short of spectacular.\n",
      "Leveraging the power of next-gen consoles and high-end PCs, the game features\n",
      "detailed car models, lifelike lighting, and photorealistic landscapes. The audio\n",
      "design is equally impressive, with each engine sounding authentic and the\n",
      "ambient sounds of nature adding depth to the immersive driving experience.\n",
      "Coupled with a diverse and energetic soundtrack, the game captures the\n",
      "excitement of a real-life automotive festival.\n",
      "\n",
      "In conclusion, Forza Horizon 5 is a landmark title in the racing genre,\n",
      "combining technical excellence with creative ambition. Its expansive world,\n",
      "diverse gameplay, and stunning presentation make it a must-play for fans of cars\n",
      "and open-world games alike. Whether you're exploring the scenic beauty of Mexico\n",
      "or competing in high-speed races, Forza Horizon 5 delivers an unforgettable\n",
      "experience that continues to evolve with each update and expansion.\n"
     ]
    }
   ],
   "source": [
    "print(doc)"
   ]
  },
  {
   "cell_type": "markdown",
   "id": "7fe3ce14",
   "metadata": {},
   "source": [
    "## The  output looks the same but The part where the difference is observed is done below "
   ]
  },
  {
   "cell_type": "code",
   "execution_count": 7,
   "id": "172c44ed",
   "metadata": {},
   "outputs": [
    {
     "name": "stdout",
     "output_type": "stream",
     "text": [
      "The size of the text is 2578\n",
      "The size of the Doc is 487\n"
     ]
    }
   ],
   "source": [
    "print(\"The size of the text is {}\".format(len(text)))\n",
    "print(\"The size of the Doc is {}\".format(len(doc)))"
   ]
  },
  {
   "cell_type": "markdown",
   "id": "f0a49df6",
   "metadata": {},
   "source": [
    "## For more clarification we can see the difference in other way "
   ]
  },
  {
   "cell_type": "code",
   "execution_count": 8,
   "id": "387070be",
   "metadata": {},
   "outputs": [
    {
     "name": "stdout",
     "output_type": "stream",
     "text": [
      "F\n",
      "o\n",
      "r\n",
      "z\n",
      "a\n",
      " \n",
      "H\n",
      "o\n",
      "r\n",
      "i\n",
      "z\n",
      "o\n",
      "n\n"
     ]
    }
   ],
   "source": [
    "for i in text[:13]:\n",
    "    print(i)"
   ]
  },
  {
   "cell_type": "code",
   "execution_count": 9,
   "id": "bccaf45d",
   "metadata": {},
   "outputs": [
    {
     "name": "stdout",
     "output_type": "stream",
     "text": [
      "Forza\n",
      "Horizon\n",
      "5\n",
      ",\n",
      "developed\n",
      "by\n",
      "Playground\n",
      "Games\n",
      "and\n",
      "published\n",
      "by\n",
      "Xbox\n",
      "Game\n"
     ]
    }
   ],
   "source": [
    "for i in  doc[:13]:\n",
    "    print(i)"
   ]
  },
  {
   "cell_type": "markdown",
   "id": "d2f9a812",
   "metadata": {},
   "source": [
    "## The \"text\" is the simply stored as the array of characters\n",
    "## Where as the \"doc\" is simply stored as the tokens"
   ]
  },
  {
   "cell_type": "markdown",
   "id": "6ed8b682",
   "metadata": {},
   "source": [
    "## The tokens can be considerd as something being separated by the spaces in the text it can be\n",
    "### A character -> a, b, c, d\n",
    "### A word -> Hello, Where, What\n",
    "### Parathesis  -> (,),{,}\n",
    "### Puntuations -> ',\",!,@\n",
    "### Numbers     -> 1, 2, 123, 443, 1233, -2332\n",
    "### Mixture     ->U.S.A   [note if it is U.S.A. then it ll split like this \"U.S.A\"  \".\"]"
   ]
  },
  {
   "cell_type": "code",
   "execution_count": 10,
   "id": "9c25a174",
   "metadata": {},
   "outputs": [
    {
     "name": "stdout",
     "output_type": "stream",
     "text": [
      "Forza\n",
      "Horizon\n",
      "5,\n",
      "developed\n",
      "by\n",
      "Playground\n",
      "Games\n",
      "and\n",
      "published\n",
      "by\n",
      "Xbox\n",
      "Game\n"
     ]
    }
   ],
   "source": [
    "for token in text.split()[:12]:\n",
    "    print(token)"
   ]
  },
  {
   "cell_type": "markdown",
   "id": "2fc8ddd1",
   "metadata": {},
   "source": [
    "## As observed \"5,\" is taken as one but it is not like that with spacy, the spacy take \"5\" and \",\" because making it together makes no sence "
   ]
  },
  {
   "cell_type": "markdown",
   "id": "bcb0da0d",
   "metadata": {},
   "source": [
    "# Sentence Boundary Detection\n",
    "## -->Identification of the sentences in the document "
   ]
  },
  {
   "cell_type": "markdown",
   "id": "dc7d4eaa",
   "metadata": {},
   "source": [
    "### We might be thinking that we can do this by simple splitting by using \".\" as every sentence ends with full stop but unfortunately it doent give the desired result "
   ]
  },
  {
   "cell_type": "code",
   "execution_count": 11,
   "id": "678a89e5",
   "metadata": {},
   "outputs": [
    {
     "name": "stdout",
     "output_type": "stream",
     "text": [
      "Forza Horizon 5, developed by Playground Games and published by Xbox Game\n",
      "Studios, is a critically acclaimed open-world racing game released in November\n",
      "2021\n",
      " As the fifth installment in the Forza Horizon series, the game builds upon\n",
      "its predecessors with a vibrant and dynamic setting, offering players an\n",
      "immersive driving experience across a beautifully rendered version of Mexico\n",
      "\n",
      "From lush rainforests to sun-drenched beaches and massive volcanoes, Forza\n",
      "Horizon 5 sets a new standard for open-world racing games with its breathtaking\n",
      "visuals and expansive world\n",
      "\n",
      "\n",
      "One of the most notable aspects of Forza Horizon 5 is its diverse and richly\n",
      "detailed map\n",
      " Spanning multiple biomes, the game provides an ever-changing\n",
      "environment that reflects real-world weather conditions and seasons\n",
      " Whether\n",
      "racing through a sandstorm in the desert or drifting along cobbled streets in\n",
      "colonial towns, players are treated to a wide range of racing scenarios\n",
      " This\n",
      "variety not only enhances replay value but also adds to the thrill and\n",
      "unpredictability of each race\n",
      "\n",
      "\n",
      "In terms of gameplay, Forza Horizon 5 excels in combining accessibility with\n",
      "realism\n",
      " It caters to both casual players and hardcore car enthusiasts, offering\n",
      "deep customization options, realistic physics, and an expansive roster of over\n",
      "500 vehicles\n",
      " The game also introduces a dynamic event system, allowing players\n",
      "to participate in different races, stunts, and challenges scattered throughout\n",
      "the open world\n",
      " With the inclusion of Horizon Arcade and Horizon Tour, the\n",
      "multiplayer aspect has been greatly enhanced, encouraging social play and\n",
      "friendly competition\n",
      "\n",
      "\n",
      "The visual fidelity of Forza Horizon 5 is nothing short of spectacular\n",
      "\n",
      "Leveraging the power of next-gen consoles and high-end PCs, the game features\n",
      "detailed car models, lifelike lighting, and photorealistic landscapes\n",
      " The audio\n",
      "design is equally impressive, with each engine sounding authentic and the\n",
      "ambient sounds of nature adding depth to the immersive driving experience\n",
      "\n",
      "Coupled with a diverse and energetic soundtrack, the game captures the\n",
      "excitement of a real-life automotive festival\n",
      "\n",
      "\n",
      "In conclusion, Forza Horizon 5 is a landmark title in the racing genre,\n",
      "combining technical excellence with creative ambition\n",
      " Its expansive world,\n",
      "diverse gameplay, and stunning presentation make it a must-play for fans of cars\n",
      "and open-world games alike\n",
      " Whether you're exploring the scenic beauty of Mexico\n",
      "or competing in high-speed races, Forza Horizon 5 delivers an unforgettable\n",
      "experience that continues to evolve with each update and expansion\n",
      "\n"
     ]
    }
   ],
   "source": [
    "for sentence in text.split(\".\"):\n",
    "    print(sentence)"
   ]
  },
  {
   "cell_type": "code",
   "execution_count": 12,
   "id": "a4375eb0",
   "metadata": {},
   "outputs": [
    {
     "name": "stdout",
     "output_type": "stream",
     "text": [
      "Forza Horizon 5, developed by Playground Games and published by Xbox Game\n",
      "Studios, is a critically acclaimed open-world racing game released in November\n",
      "2021.\n",
      "As the fifth installment in the Forza Horizon series, the game builds upon\n",
      "its predecessors with a vibrant and dynamic setting, offering players an\n",
      "immersive driving experience across a beautifully rendered version of Mexico.\n",
      "\n",
      "From lush rainforests to sun-drenched beaches and massive volcanoes, Forza\n",
      "Horizon 5 sets a new standard for open-world racing games with its breathtaking\n",
      "visuals and expansive world.\n",
      "\n",
      "\n",
      "One of the most notable aspects of Forza Horizon 5 is its diverse and richly\n",
      "detailed map.\n",
      "Spanning multiple biomes, the game provides an ever-changing\n",
      "environment that reflects real-world weather conditions and seasons.\n",
      "Whether\n",
      "racing through a sandstorm in the desert or drifting along cobbled streets in\n",
      "colonial towns, players are treated to a wide range of racing scenarios.\n",
      "This\n",
      "variety not only enhances replay value but also adds to the thrill and\n",
      "unpredictability of each race.\n",
      "\n",
      "\n",
      "In terms of gameplay, Forza Horizon 5 excels in combining accessibility with\n",
      "realism.\n",
      "It caters to both casual players and hardcore car enthusiasts, offering\n",
      "deep customization options, realistic physics, and an expansive roster of over\n",
      "500 vehicles.\n",
      "The game also introduces a dynamic event system, allowing players\n",
      "to participate in different races, stunts, and challenges scattered throughout\n",
      "the open world.\n",
      "With the inclusion of Horizon Arcade and Horizon Tour, the\n",
      "multiplayer aspect has been greatly enhanced, encouraging social play and\n",
      "friendly competition.\n",
      "\n",
      "\n",
      "The visual fidelity of Forza Horizon 5 is nothing short of spectacular.\n",
      "\n",
      "Leveraging the power of next-gen consoles and high-end PCs, the game features\n",
      "detailed car models, lifelike lighting, and photorealistic landscapes.\n",
      "The audio\n",
      "design is equally impressive, with each engine sounding authentic and the\n",
      "ambient sounds of nature adding depth to the immersive driving experience.\n",
      "\n",
      "Coupled with a diverse and energetic soundtrack, the game captures the\n",
      "excitement of a real-life automotive festival.\n",
      "\n",
      "\n",
      "In conclusion, Forza Horizon 5 is a landmark title in the racing genre,\n",
      "combining technical excellence with creative ambition.\n",
      "Its expansive world,\n",
      "diverse gameplay, and stunning presentation make it a must-play for fans of cars\n",
      "and open-world games alike.\n",
      "Whether you're exploring the scenic beauty of Mexico\n",
      "or competing in high-speed races, Forza Horizon 5 delivers an unforgettable\n",
      "experience that continues to evolve with each update and expansion.\n"
     ]
    }
   ],
   "source": [
    "for sentence in doc.sents:\n",
    "    print(sentence)"
   ]
  },
  {
   "cell_type": "markdown",
   "id": "37508e41",
   "metadata": {},
   "source": [
    "## Spacy has Tokenized the document into the senetence level\n",
    "### Lets check to observe it "
   ]
  },
  {
   "cell_type": "code",
   "execution_count": 13,
   "id": "5ee21187",
   "metadata": {},
   "outputs": [
    {
     "name": "stdout",
     "output_type": "stream",
     "text": [
      "Forza Horizon 5, developed by Playground Games and published by Xbox Game\n",
      "Studios, is a critically acclaimed open-world racing game released in November\n",
      "2021.\n"
     ]
    }
   ],
   "source": [
    "sentence1=list(doc.sents)[0]\n",
    "print(sentence1)\n",
    "#prints first sentence of the text document"
   ]
  }
 ],
 "metadata": {
  "kernelspec": {
   "display_name": ".venv",
   "language": "python",
   "name": "python3"
  },
  "language_info": {
   "codemirror_mode": {
    "name": "ipython",
    "version": 3
   },
   "file_extension": ".py",
   "mimetype": "text/x-python",
   "name": "python",
   "nbconvert_exporter": "python",
   "pygments_lexer": "ipython3",
   "version": "3.12.1"
  }
 },
 "nbformat": 4,
 "nbformat_minor": 5
}
